{
 "cells": [
  {
   "cell_type": "code",
   "execution_count": 1,
   "metadata": {},
   "outputs": [],
   "source": [
    "#%pip install pytube youtube-transcript-api openai\n",
    "#%pip install yt-dlp\n",
    "#%pip install openai==0.28\n",
    "#update openai\n",
    "#%pip install --upgrade openai\n",
    "#%pip install tiktoken\n",
    "import tiktoken\n",
    "import os\n",
    "from pytube import YouTube\n",
    "from youtube_transcript_api import YouTubeTranscriptApi\n",
    "import openai\n",
    "from math import ceil\n",
    "import yt_dlp\n",
    "import json \n",
    "import re\n",
    "import csv"
   ]
  },
  {
   "cell_type": "code",
   "execution_count": 2,
   "metadata": {},
   "outputs": [],
   "source": [
    "# Set your OpenAI API key\n",
    "client = openai.OpenAI(\n",
    "    api_key=os.getenv(\"OPENAI_API_KEY\")\n",
    ")"
   ]
  },
  {
   "cell_type": "code",
   "execution_count": 3,
   "metadata": {},
   "outputs": [],
   "source": [
    "def get_video_info(youtube_url):\n",
    "    ydl_opts = {\n",
    "        'skip_download': True,\n",
    "        'quiet': True\n",
    "    }\n",
    "    with yt_dlp.YoutubeDL(ydl_opts) as ydl:\n",
    "        info = ydl.extract_info(youtube_url, download=False)\n",
    "        return info\n",
    "\n",
    "def get_video_transcript(youtube_url):\n",
    "    ydl_opts = {\n",
    "        'writesubtitles': True,\n",
    "        'skip_download': True,\n",
    "        'outtmpl': 'tmp/transcript',\n",
    "        'subtitlesformat': 'vtt'\n",
    "    }\n",
    "    with yt_dlp.YoutubeDL(ydl_opts) as ydl:\n",
    "        ydl.download([youtube_url])\n",
    "    \n",
    "    with open('tmp/transcript.en.vtt', 'r', encoding='utf-8') as f:\n",
    "        transcript = f.read()\n",
    "    \n",
    "    return ' '.join(line.strip() for line in transcript.split('\\n') \n",
    "                    if line.strip() and not line.strip().isdigit() \n",
    "                        and '-->' not in line)\n",
    "\n",
    "def num_tokens_from_string(string: str, encoding_name: str = \"cl100k_base\") -> int:\n",
    "    \"\"\"Returns the number of tokens in a text string.\"\"\"\n",
    "    encoding = tiktoken.get_encoding(encoding_name)\n",
    "    num_tokens = len(encoding.encode(string))\n",
    "    return num_tokens\n",
    "\n",
    "def convert_to_json(content):\n",
    "    # Replace single quotes with double quotes\n",
    "    content = content.replace(\"'\", '\"')\n",
    "    # Split the content into individual question blocks\n",
    "    question_blocks = re.split(r'### Question \\d+:', content)\n",
    "    # Remove the ```python and ``` markers\n",
    "    cleaned_blocks = [block.replace(\"```python\", \"\").replace(\"```\", \"\") for block in question_blocks]\n",
    "    # Extract JSON objects using regex\n",
    "    json_objects = [re.findall(r'{.*?}', block, re.DOTALL) for block in cleaned_blocks]\n",
    "    # Flatten the list of lists\n",
    "    json_objects = [item for sublist in json_objects for item in sublist]\n",
    "    # Parse JSON objects\n",
    "    quiz = [json.loads(obj) for obj in json_objects]\n",
    "    return quiz\n",
    "\n",
    "def generate_quiz(transcript, num_questions):\n",
    "    \n",
    "    # Define max tokens for input (leaving room for output)\n",
    "    MAX_TOKENS = 3000\n",
    "    \n",
    "    # Split transcript into chunks\n",
    "    chunks = []\n",
    "    current_chunk = \"\"\n",
    "    for sentence in transcript.split('. '):\n",
    "        if num_tokens_from_string(current_chunk + sentence) > MAX_TOKENS:\n",
    "            chunks.append(current_chunk)\n",
    "            current_chunk = sentence\n",
    "        else:\n",
    "            current_chunk += sentence + '. '\n",
    "    if current_chunk:\n",
    "        chunks.append(current_chunk)\n",
    "    \n",
    "    # Generate questions for each chunk\n",
    "    all_questions = []\n",
    "    questions_per_chunk = max(1, num_questions // len(chunks))\n",
    "    \n",
    "    for i, chunk in enumerate(chunks):\n",
    "        prompt = f\"\"\"Based on the following part of a video transcript, create a multiple-choice quiz with {questions_per_chunk} questions. \n",
    "        Format each question as a python dictionary with 'question', 'options' (a list of 4 choices), and 'correct_answer' keys. Structure example: \n",
    "       {{'question': 'What is the capital of France?', 'options': ['Paris', 'London', 'Berlin', 'Madrid'], 'correct_answer': 'Paris'}}\\n\\n\n",
    "        Transcript part {i+1}/{len(chunks)}: {chunk}\"\"\"\n",
    "\n",
    "        response = client.chat.completions.create(\n",
    "            model=\"gpt-3.5-turbo\",\n",
    "            messages=[\n",
    "                {\"role\": \"system\", \"content\": \"You are a helpful assistant that creates quizzes based on video content.\"},\n",
    "                {\"role\": \"user\", \"content\": prompt}\n",
    "            ]\n",
    "        )\n",
    "        chunk_questions = convert_to_json(response.choices[0].message.content)\n",
    "        # print(response.choices[0].message.content)\n",
    "        # print(chunk_questions)\n",
    "        all_questions.extend(chunk_questions)\n",
    "    \n",
    "    # If we have more questions than needed, randomly select the required number\n",
    "    if len(all_questions) > num_questions:\n",
    "        import random\n",
    "        all_questions = random.sample(all_questions, num_questions)\n",
    "    \n",
    "    return all_questions\n",
    "\n",
    "\n",
    "def create_quiz_from_youtube(youtube_url):\n",
    "    try:\n",
    "        info = get_video_info(youtube_url)\n",
    "        duration_seconds = info['duration']\n",
    "        \n",
    "        num_questions = ceil(duration_seconds / 60)  # 1 question per 60 seconds\n",
    "        transcript = get_video_transcript(youtube_url)\n",
    "        if not transcript:\n",
    "            return None\n",
    "\n",
    "        quiz = generate_quiz(transcript, num_questions)\n",
    "\n",
    "        # return quiz as a JSON string\n",
    "        return quiz\n",
    "\n",
    "    except Exception as e:\n",
    "        print(f\"Error creating quiz: {e}\")\n",
    "        return None\n",
    "    \n",
    "def store_quiz_in_csv(youtube_url, quiz, transcript, info):\n",
    "    # Extract video information\n",
    "    title = info['title']\n",
    "    duration = info['duration']\n",
    "    \n",
    "    # Prepare data for CSV\n",
    "    questions = []\n",
    "    correct_answers = []\n",
    "    for question in quiz:\n",
    "        questions.append(question['question'])\n",
    "        correct_answers.append(question['correct_answer'])\n",
    "    \n",
    "    # Create a CSV row\n",
    "    row = {\n",
    "        'title': title,\n",
    "        'link': youtube_url,\n",
    "        'duration': duration,\n",
    "        'transcript': transcript,\n",
    "        'questions': json.dumps(questions),\n",
    "        'correct_answers': json.dumps(correct_answers)\n",
    "    }\n",
    "    \n",
    "    # Write to CSV file\n",
    "    csv_file = 'quiz_data.csv'\n",
    "    fieldnames = ['title', 'link', 'duration', 'transcript', 'questions', 'correct_answers']\n",
    "    \n",
    "    try:\n",
    "        with open(csv_file, mode='a', newline='', encoding='utf-8') as file:\n",
    "            writer = csv.DictWriter(file, fieldnames=fieldnames)\n",
    "            \n",
    "            # Write header if the file is empty\n",
    "            if file.tell() == 0:\n",
    "                writer.writeheader()\n",
    "            \n",
    "            writer.writerow(row)\n",
    "    except Exception as e:\n",
    "        print(f\"Error writing to CSV file: {e}\")\n"
   ]
  },
  {
   "cell_type": "code",
   "execution_count": 4,
   "metadata": {},
   "outputs": [
    {
     "name": "stderr",
     "output_type": "stream",
     "text": [
      "WARNING: ffmpeg not found. The downloaded format may not be the best available. Installing ffmpeg is strongly recommended: https://github.com/yt-dlp/yt-dlp#dependencies\n"
     ]
    },
    {
     "name": "stdout",
     "output_type": "stream",
     "text": [
      "[youtube] Extracting URL: https://www.youtube.com/watch?v=SSo_EIwHSd4\n",
      "[youtube] SSo_EIwHSd4: Downloading webpage\n",
      "[youtube] SSo_EIwHSd4: Downloading tv client config\n",
      "[youtube] SSo_EIwHSd4: Downloading player 9c6dfc4a\n",
      "[youtube] SSo_EIwHSd4: Downloading tv player API JSON\n",
      "[youtube] SSo_EIwHSd4: Downloading ios player API JSON\n",
      "[youtube] SSo_EIwHSd4: Downloading m3u8 information\n",
      "[info] SSo_EIwHSd4: Downloading subtitles: en\n"
     ]
    },
    {
     "name": "stderr",
     "output_type": "stream",
     "text": [
      "WARNING: ffmpeg not found. The downloaded format may not be the best available. Installing ffmpeg is strongly recommended: https://github.com/yt-dlp/yt-dlp#dependencies\n"
     ]
    },
    {
     "name": "stdout",
     "output_type": "stream",
     "text": [
      "[info] SSo_EIwHSd4: Downloading 1 format(s): 18\n",
      "Deleting existing file tmp\\transcript.en.vtt\n",
      "[info] Writing video subtitles to: tmp\\transcript.en.vtt\n",
      "[download] Destination: tmp\\transcript.en.vtt\n",
      "[download] 100% of    7.56KiB in 00:00:00 at 100.16KiB/s\n"
     ]
    },
    {
     "data": {
      "text/plain": [
       "[{'question': 'What was the original purpose of blockchain technology?',\n",
       "  'options': ['Timestamping digital documents',\n",
       "   'Creating digital currencies',\n",
       "   'Managing medical records',\n",
       "   'Collecting taxes'],\n",
       "  'correct_answer': 'Timestamping digital documents'},\n",
       " {'question': 'Who adapted the blockchain technology in 2009 to create Bitcoin?',\n",
       "  'options': ['Satoshi Nakamoto',\n",
       "   'Vitalik Buterin',\n",
       "   'Charlie Lee',\n",
       "   'David Chaum'],\n",
       "  'correct_answer': 'Satoshi Nakamoto'},\n",
       " {'question': 'What technique makes it difficult to change data recorded inside a blockchain?',\n",
       "  'options': ['Hashing', 'Encryption', 'Compression', 'Serialization'],\n",
       "  'correct_answer': 'Hashing'},\n",
       " {'question': 'What is the unique property of a hash in a block?',\n",
       "  'options': ['It is like a fingerprint and uniquely identifies the block',\n",
       "   'It is easily changeable',\n",
       "   'It is encrypted and secure',\n",
       "   'It is shared among multiple blocks'],\n",
       "  'correct_answer': 'It is like a fingerprint and uniquely identifies the block'},\n",
       " {'question': 'What mechanism is used to slow down the creation of new blocks in a blockchain?',\n",
       "  'options': ['Proof-of-work',\n",
       "   'Proof-of-stake',\n",
       "   'Proof-of-authority',\n",
       "   'Delegated proof-of-stake'],\n",
       "  'correct_answer': 'Proof-of-work'},\n",
       " {'question': 'What is a key feature that enhances the security of blockchains?',\n",
       "  'options': ['Being distributed',\n",
       "   'Being centralized',\n",
       "   'Being secretive',\n",
       "   'Being exclusive'],\n",
       "  'correct_answer': 'Being distributed'}]"
      ]
     },
     "execution_count": 4,
     "metadata": {},
     "output_type": "execute_result"
    }
   ],
   "source": [
    "# Example usage\n",
    "youtube_url = \"https://www.youtube.com/watch?v=SSo_EIwHSd4\"  # Replace with your YouTube video URL\n",
    "quiz = create_quiz_from_youtube(youtube_url)\n",
    "quiz"
   ]
  },
  {
   "cell_type": "code",
   "execution_count": 8,
   "metadata": {},
   "outputs": [],
   "source": [
    "# function to store quiz in csv with columns: title, link, duration, questions, options, correct_answers.\n",
    "# if title already exists in csv, skip\n",
    "    \n",
    "def store_quiz_in_csv(youtube_url):\n",
    "    # Create quiz from YouTube video\n",
    "    quiz = create_quiz_from_youtube(youtube_url)\n",
    "    \n",
    "    # Extract video information\n",
    "    info = get_video_info(youtube_url)\n",
    "    title = info['title']\n",
    "    duration = info['duration']\n",
    "    \n",
    "\n",
    "    # Prepare data for CSV\n",
    "    questions = []\n",
    "    options = []\n",
    "    correct_answers = []\n",
    "    for question in quiz:\n",
    "        questions.append(question['question'])\n",
    "        options.append(json.dumps(question['options']))\n",
    "        correct_answers.append(question['correct_answer'])\n",
    "    \n",
    "    # Create a CSV row\n",
    "    row = {\n",
    "        'title': title,\n",
    "        'link': youtube_url,\n",
    "        'duration': duration,\n",
    "        'questions': json.dumps(questions),\n",
    "        'options': json.dumps(options),\n",
    "        'correct_answers': json.dumps(correct_answers)\n",
    "    }\n",
    "    \n",
    "    # Write to CSV file\n",
    "    csv_file = 'quiz_data.csv'\n",
    "    fieldnames = ['title', 'link', 'duration', 'questions', 'options', 'correct_answers']\n",
    "    \n",
    "    try:\n",
    "        with open(csv_file, mode='a', newline='', encoding='utf-8') as file:\n",
    "            writer = csv.DictWriter(file, fieldnames=fieldnames)\n",
    "            \n",
    "            # Write header if the file is empty\n",
    "            if file.tell() == 0:\n",
    "                writer.writeheader()\n",
    "            \n",
    "            writer.writerow(row)\n",
    "    except Exception as e:\n",
    "        print(f\"Error writing to CSV file: {e}\")\n"
   ]
  },
  {
   "cell_type": "code",
   "execution_count": null,
   "metadata": {},
   "outputs": [
    {
     "name": "stderr",
     "output_type": "stream",
     "text": [
      "WARNING: ffmpeg not found. The downloaded format may not be the best available. Installing ffmpeg is strongly recommended: https://github.com/yt-dlp/yt-dlp#dependencies\n"
     ]
    },
    {
     "name": "stdout",
     "output_type": "stream",
     "text": [
      "[youtube] Extracting URL: https://www.youtube.com/watch?v=SSo_EIwHSd4\n",
      "[youtube] SSo_EIwHSd4: Downloading webpage\n",
      "[youtube] SSo_EIwHSd4: Downloading tv client config\n",
      "[youtube] SSo_EIwHSd4: Downloading player 9c6dfc4a\n",
      "[youtube] SSo_EIwHSd4: Downloading tv player API JSON\n",
      "[youtube] SSo_EIwHSd4: Downloading ios player API JSON\n",
      "[youtube] SSo_EIwHSd4: Downloading m3u8 information\n",
      "[info] SSo_EIwHSd4: Downloading subtitles: en\n"
     ]
    },
    {
     "name": "stderr",
     "output_type": "stream",
     "text": [
      "WARNING: ffmpeg not found. The downloaded format may not be the best available. Installing ffmpeg is strongly recommended: https://github.com/yt-dlp/yt-dlp#dependencies\n"
     ]
    },
    {
     "name": "stdout",
     "output_type": "stream",
     "text": [
      "[info] SSo_EIwHSd4: Downloading 1 format(s): 18\n",
      "Deleting existing file tmp\\transcript.en.vtt\n",
      "[info] Writing video subtitles to: tmp\\transcript.en.vtt\n",
      "[download] Destination: tmp\\transcript.en.vtt\n",
      "[download] 100% of    7.56KiB in 00:00:00 at 94.12KiB/s\n"
     ]
    },
    {
     "name": "stderr",
     "output_type": "stream",
     "text": [
      "WARNING: ffmpeg not found. The downloaded format may not be the best available. Installing ffmpeg is strongly recommended: https://github.com/yt-dlp/yt-dlp#dependencies\n",
      "WARNING: ffmpeg not found. The downloaded format may not be the best available. Installing ffmpeg is strongly recommended: https://github.com/yt-dlp/yt-dlp#dependencies\n"
     ]
    },
    {
     "name": "stdout",
     "output_type": "stream",
     "text": [
      "[youtube] Extracting URL: https://www.youtube.com/watch?v=3xGLc-zz9cA\n",
      "[youtube] 3xGLc-zz9cA: Downloading webpage\n",
      "[youtube] 3xGLc-zz9cA: Downloading tv client config\n",
      "[youtube] 3xGLc-zz9cA: Downloading player 9c6dfc4a\n",
      "[youtube] 3xGLc-zz9cA: Downloading tv player API JSON\n",
      "[youtube] 3xGLc-zz9cA: Downloading ios player API JSON\n",
      "[youtube] 3xGLc-zz9cA: Downloading m3u8 information\n"
     ]
    },
    {
     "name": "stderr",
     "output_type": "stream",
     "text": [
      "WARNING: ffmpeg not found. The downloaded format may not be the best available. Installing ffmpeg is strongly recommended: https://github.com/yt-dlp/yt-dlp#dependencies\n"
     ]
    },
    {
     "name": "stdout",
     "output_type": "stream",
     "text": [
      "[info] 3xGLc-zz9cA: Downloading 1 format(s): 18\n",
      "[info] There are no subtitles for the requested languages\n"
     ]
    },
    {
     "name": "stderr",
     "output_type": "stream",
     "text": [
      "WARNING: ffmpeg not found. The downloaded format may not be the best available. Installing ffmpeg is strongly recommended: https://github.com/yt-dlp/yt-dlp#dependencies\n",
      "WARNING: ffmpeg not found. The downloaded format may not be the best available. Installing ffmpeg is strongly recommended: https://github.com/yt-dlp/yt-dlp#dependencies\n"
     ]
    },
    {
     "name": "stdout",
     "output_type": "stream",
     "text": [
      "[youtube] Extracting URL: https://www.youtube.com/watch?v=ReRJzrCwsaw\n",
      "[youtube] ReRJzrCwsaw: Downloading webpage\n",
      "[youtube] ReRJzrCwsaw: Downloading tv client config\n",
      "[youtube] ReRJzrCwsaw: Downloading player 9c6dfc4a\n",
      "[youtube] ReRJzrCwsaw: Downloading tv player API JSON\n",
      "[youtube] ReRJzrCwsaw: Downloading ios player API JSON\n",
      "[youtube] ReRJzrCwsaw: Downloading m3u8 information\n",
      "[info] ReRJzrCwsaw: Downloading subtitles: en-US\n"
     ]
    },
    {
     "name": "stderr",
     "output_type": "stream",
     "text": [
      "WARNING: ffmpeg not found. The downloaded format may not be the best available. Installing ffmpeg is strongly recommended: https://github.com/yt-dlp/yt-dlp#dependencies\n"
     ]
    },
    {
     "name": "stdout",
     "output_type": "stream",
     "text": [
      "[info] ReRJzrCwsaw: Downloading 1 format(s): 18\n",
      "Deleting existing file tmp\\transcript.en-US.vtt\n",
      "[info] Writing video subtitles to: tmp\\transcript.en-US.vtt\n",
      "[download] Destination: tmp\\transcript.en-US.vtt\n",
      "[download] 100% of    3.47KiB in 00:00:00 at 52.63KiB/s\n"
     ]
    },
    {
     "name": "stderr",
     "output_type": "stream",
     "text": [
      "WARNING: ffmpeg not found. The downloaded format may not be the best available. Installing ffmpeg is strongly recommended: https://github.com/yt-dlp/yt-dlp#dependencies\n",
      "WARNING: ffmpeg not found. The downloaded format may not be the best available. Installing ffmpeg is strongly recommended: https://github.com/yt-dlp/yt-dlp#dependencies\n"
     ]
    },
    {
     "name": "stdout",
     "output_type": "stream",
     "text": [
      "[youtube] Extracting URL: https://www.youtube.com/watch?v=17QRFlml4pA&t=1s\n",
      "[youtube] 17QRFlml4pA: Downloading webpage\n",
      "[youtube] 17QRFlml4pA: Downloading tv client config\n",
      "[youtube] 17QRFlml4pA: Downloading player 9c6dfc4a\n",
      "[youtube] 17QRFlml4pA: Downloading tv player API JSON\n",
      "[youtube] 17QRFlml4pA: Downloading ios player API JSON\n",
      "[youtube] 17QRFlml4pA: Downloading m3u8 information\n"
     ]
    },
    {
     "name": "stderr",
     "output_type": "stream",
     "text": [
      "WARNING: ffmpeg not found. The downloaded format may not be the best available. Installing ffmpeg is strongly recommended: https://github.com/yt-dlp/yt-dlp#dependencies\n"
     ]
    },
    {
     "name": "stdout",
     "output_type": "stream",
     "text": [
      "[info] 17QRFlml4pA: Downloading 1 format(s): 18\n",
      "[info] There are no subtitles for the requested languages\n"
     ]
    },
    {
     "name": "stderr",
     "output_type": "stream",
     "text": [
      "WARNING: ffmpeg not found. The downloaded format may not be the best available. Installing ffmpeg is strongly recommended: https://github.com/yt-dlp/yt-dlp#dependencies\n",
      "WARNING: ffmpeg not found. The downloaded format may not be the best available. Installing ffmpeg is strongly recommended: https://github.com/yt-dlp/yt-dlp#dependencies\n"
     ]
    },
    {
     "name": "stdout",
     "output_type": "stream",
     "text": [
      "[youtube] Extracting URL: https://www.youtube.com/watch?v=ll5c4pLMDdA\n",
      "[youtube] ll5c4pLMDdA: Downloading webpage\n",
      "[youtube] ll5c4pLMDdA: Downloading tv client config\n",
      "[youtube] ll5c4pLMDdA: Downloading player 9c6dfc4a\n",
      "[youtube] ll5c4pLMDdA: Downloading tv player API JSON\n",
      "[youtube] ll5c4pLMDdA: Downloading ios player API JSON\n",
      "[youtube] ll5c4pLMDdA: Downloading m3u8 information\n",
      "[info] ll5c4pLMDdA: Downloading subtitles: en\n"
     ]
    },
    {
     "name": "stderr",
     "output_type": "stream",
     "text": [
      "WARNING: ffmpeg not found. The downloaded format may not be the best available. Installing ffmpeg is strongly recommended: https://github.com/yt-dlp/yt-dlp#dependencies\n"
     ]
    },
    {
     "name": "stdout",
     "output_type": "stream",
     "text": [
      "[info] ll5c4pLMDdA: Downloading 1 format(s): 18\n",
      "Deleting existing file tmp\\transcript.en.vtt\n",
      "[info] Writing video subtitles to: tmp\\transcript.en.vtt\n",
      "[download] Destination: tmp\\transcript.en.vtt\n",
      "[download] 100% of    4.18KiB in 00:00:00 at 47.07KiB/s\n"
     ]
    },
    {
     "name": "stderr",
     "output_type": "stream",
     "text": [
      "WARNING: ffmpeg not found. The downloaded format may not be the best available. Installing ffmpeg is strongly recommended: https://github.com/yt-dlp/yt-dlp#dependencies\n",
      "WARNING: ffmpeg not found. The downloaded format may not be the best available. Installing ffmpeg is strongly recommended: https://github.com/yt-dlp/yt-dlp#dependencies\n"
     ]
    },
    {
     "name": "stdout",
     "output_type": "stream",
     "text": [
      "[youtube] Extracting URL: https://www.youtube.com/watch?v=SQyg9pyJ1Ac\n",
      "[youtube] SQyg9pyJ1Ac: Downloading webpage\n",
      "[youtube] SQyg9pyJ1Ac: Downloading tv client config\n",
      "[youtube] SQyg9pyJ1Ac: Downloading player 9c6dfc4a\n",
      "[youtube] SQyg9pyJ1Ac: Downloading tv player API JSON\n",
      "[youtube] SQyg9pyJ1Ac: Downloading ios player API JSON\n",
      "[youtube] SQyg9pyJ1Ac: Downloading m3u8 information\n"
     ]
    },
    {
     "name": "stderr",
     "output_type": "stream",
     "text": [
      "WARNING: ffmpeg not found. The downloaded format may not be the best available. Installing ffmpeg is strongly recommended: https://github.com/yt-dlp/yt-dlp#dependencies\n"
     ]
    },
    {
     "name": "stdout",
     "output_type": "stream",
     "text": [
      "[info] SQyg9pyJ1Ac: Downloading 1 format(s): 18\n",
      "[info] There are no subtitles for the requested languages\n"
     ]
    },
    {
     "name": "stderr",
     "output_type": "stream",
     "text": [
      "WARNING: ffmpeg not found. The downloaded format may not be the best available. Installing ffmpeg is strongly recommended: https://github.com/yt-dlp/yt-dlp#dependencies\n",
      "WARNING: ffmpeg not found. The downloaded format may not be the best available. Installing ffmpeg is strongly recommended: https://github.com/yt-dlp/yt-dlp#dependencies\n"
     ]
    },
    {
     "name": "stdout",
     "output_type": "stream",
     "text": [
      "[youtube] Extracting URL: https://www.youtube.com/watch?v=vTEjf7MYAWA\n",
      "[youtube] vTEjf7MYAWA: Downloading webpage\n",
      "[youtube] vTEjf7MYAWA: Downloading tv client config\n",
      "[youtube] vTEjf7MYAWA: Downloading player 9c6dfc4a\n",
      "[youtube] vTEjf7MYAWA: Downloading tv player API JSON\n",
      "[youtube] vTEjf7MYAWA: Downloading ios player API JSON\n",
      "[youtube] vTEjf7MYAWA: Downloading m3u8 information\n"
     ]
    },
    {
     "name": "stderr",
     "output_type": "stream",
     "text": [
      "WARNING: ffmpeg not found. The downloaded format may not be the best available. Installing ffmpeg is strongly recommended: https://github.com/yt-dlp/yt-dlp#dependencies\n"
     ]
    },
    {
     "name": "stdout",
     "output_type": "stream",
     "text": [
      "[info] vTEjf7MYAWA: Downloading 1 format(s): 18\n",
      "[info] There are no subtitles for the requested languages\n"
     ]
    },
    {
     "name": "stderr",
     "output_type": "stream",
     "text": [
      "WARNING: ffmpeg not found. The downloaded format may not be the best available. Installing ffmpeg is strongly recommended: https://github.com/yt-dlp/yt-dlp#dependencies\n",
      "WARNING: ffmpeg not found. The downloaded format may not be the best available. Installing ffmpeg is strongly recommended: https://github.com/yt-dlp/yt-dlp#dependencies\n"
     ]
    },
    {
     "name": "stdout",
     "output_type": "stream",
     "text": [
      "[youtube] Extracting URL: https://www.youtube.com/watch?v=t1brCcgi174\n",
      "[youtube] t1brCcgi174: Downloading webpage\n",
      "[youtube] t1brCcgi174: Downloading tv client config\n",
      "[youtube] t1brCcgi174: Downloading player 9c6dfc4a\n",
      "[youtube] t1brCcgi174: Downloading tv player API JSON\n",
      "[youtube] t1brCcgi174: Downloading ios player API JSON\n",
      "[youtube] t1brCcgi174: Downloading m3u8 information\n"
     ]
    },
    {
     "name": "stderr",
     "output_type": "stream",
     "text": [
      "WARNING: ffmpeg not found. The downloaded format may not be the best available. Installing ffmpeg is strongly recommended: https://github.com/yt-dlp/yt-dlp#dependencies\n"
     ]
    },
    {
     "name": "stdout",
     "output_type": "stream",
     "text": [
      "[info] t1brCcgi174: Downloading 1 format(s): 18\n",
      "[info] There are no subtitles for the requested languages\n"
     ]
    },
    {
     "name": "stderr",
     "output_type": "stream",
     "text": [
      "WARNING: ffmpeg not found. The downloaded format may not be the best available. Installing ffmpeg is strongly recommended: https://github.com/yt-dlp/yt-dlp#dependencies\n"
     ]
    }
   ],
   "source": [
    "store_quiz_in_csv(\"https://www.youtube.com/watch?v=SSo_EIwHSd4\")\n",
    "store_quiz_in_csv(\"https://www.youtube.com/watch?v=3xGLc-zz9cA\")\n",
    "store_quiz_in_csv(\"https://www.youtube.com/watch?v=ReRJzrCwsaw\")\n",
    "store_quiz_in_csv(\"https://www.youtube.com/watch?v=17QRFlml4pA&t=1s\")\n",
    "store_quiz_in_csv(\"https://www.youtube.com/watch?v=ll5c4pLMDdA\")\n",
    "# store_quiz_in_csv(\"https://www.youtube.com/watch?v=SQyg9pyJ1Ac\")\n",
    "# store_quiz_in_csv(\"https://www.youtube.com/watch?v=vTEjf7MYAWA\")\n",
    "# store_quiz_in_csv(\"https://www.youtube.com/watch?v=t1brCcgi174\")"
   ]
  },
  {
   "cell_type": "code",
   "execution_count": 11,
   "metadata": {},
   "outputs": [
    {
     "name": "stderr",
     "output_type": "stream",
     "text": [
      "WARNING: ffmpeg not found. The downloaded format may not be the best available. Installing ffmpeg is strongly recommended: https://github.com/yt-dlp/yt-dlp#dependencies\n"
     ]
    },
    {
     "name": "stdout",
     "output_type": "stream",
     "text": [
      "[youtube] Extracting URL: https://www.youtube.com/watch?v=kf28zqP_F2s\n",
      "[youtube] kf28zqP_F2s: Downloading webpage\n",
      "[youtube] kf28zqP_F2s: Downloading tv client config\n",
      "[youtube] kf28zqP_F2s: Downloading player 9c6dfc4a\n",
      "[youtube] kf28zqP_F2s: Downloading tv player API JSON\n",
      "[youtube] kf28zqP_F2s: Downloading ios player API JSON\n",
      "[youtube] kf28zqP_F2s: Downloading m3u8 information\n",
      "[info] kf28zqP_F2s: Downloading subtitles: en-US\n"
     ]
    },
    {
     "name": "stderr",
     "output_type": "stream",
     "text": [
      "WARNING: ffmpeg not found. The downloaded format may not be the best available. Installing ffmpeg is strongly recommended: https://github.com/yt-dlp/yt-dlp#dependencies\n"
     ]
    },
    {
     "name": "stdout",
     "output_type": "stream",
     "text": [
      "[info] kf28zqP_F2s: Downloading 1 format(s): 18\n",
      "Deleting existing file tmp\\transcript.en-US.vtt\n",
      "[info] Writing video subtitles to: tmp\\transcript.en-US.vtt\n",
      "[download] Destination: tmp\\transcript.en-US.vtt\n",
      "[download] 100% of    5.61KiB in 00:00:00 at 49.63KiB/s\n"
     ]
    },
    {
     "name": "stderr",
     "output_type": "stream",
     "text": [
      "WARNING: ffmpeg not found. The downloaded format may not be the best available. Installing ffmpeg is strongly recommended: https://github.com/yt-dlp/yt-dlp#dependencies\n"
     ]
    }
   ],
   "source": [
    "store_quiz_in_csv(\"https://www.youtube.com/watch?v=kf28zqP_F2s\")"
   ]
  },
  {
   "cell_type": "code",
   "execution_count": 12,
   "metadata": {},
   "outputs": [
    {
     "name": "stderr",
     "output_type": "stream",
     "text": [
      "WARNING: ffmpeg not found. The downloaded format may not be the best available. Installing ffmpeg is strongly recommended: https://github.com/yt-dlp/yt-dlp#dependencies\n"
     ]
    },
    {
     "name": "stdout",
     "output_type": "stream",
     "text": [
      "[youtube] Extracting URL: https://www.youtube.com/watch?v=rYQgy8QDEBI\n",
      "[youtube] rYQgy8QDEBI: Downloading webpage\n",
      "[youtube] rYQgy8QDEBI: Downloading tv client config\n",
      "[youtube] rYQgy8QDEBI: Downloading player 9c6dfc4a\n",
      "[youtube] rYQgy8QDEBI: Downloading tv player API JSON\n",
      "[youtube] rYQgy8QDEBI: Downloading ios player API JSON\n",
      "[youtube] rYQgy8QDEBI: Downloading m3u8 information\n"
     ]
    },
    {
     "name": "stderr",
     "output_type": "stream",
     "text": [
      "WARNING: ffmpeg not found. The downloaded format may not be the best available. Installing ffmpeg is strongly recommended: https://github.com/yt-dlp/yt-dlp#dependencies\n"
     ]
    },
    {
     "name": "stdout",
     "output_type": "stream",
     "text": [
      "[info] rYQgy8QDEBI: Downloading 1 format(s): 18\n",
      "[info] There are no subtitles for the requested languages\n"
     ]
    },
    {
     "name": "stderr",
     "output_type": "stream",
     "text": [
      "WARNING: ffmpeg not found. The downloaded format may not be the best available. Installing ffmpeg is strongly recommended: https://github.com/yt-dlp/yt-dlp#dependencies\n"
     ]
    }
   ],
   "source": [
    "store_quiz_in_csv(\"https://www.youtube.com/watch?v=rYQgy8QDEBI\")"
   ]
  }
 ],
 "metadata": {
  "kernelspec": {
   "display_name": "tartanhacks",
   "language": "python",
   "name": "python3"
  },
  "language_info": {
   "codemirror_mode": {
    "name": "ipython",
    "version": 3
   },
   "file_extension": ".py",
   "mimetype": "text/x-python",
   "name": "python",
   "nbconvert_exporter": "python",
   "pygments_lexer": "ipython3",
   "version": "3.12.9"
  }
 },
 "nbformat": 4,
 "nbformat_minor": 2
}
